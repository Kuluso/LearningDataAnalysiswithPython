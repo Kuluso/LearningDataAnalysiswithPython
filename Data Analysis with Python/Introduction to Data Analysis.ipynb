{
 "cells": [
  {
   "cell_type": "markdown",
   "id": "10c5d715-5139-450b-aead-216f0494d4c3",
   "metadata": {},
   "source": [
    "本课类似导论  \n",
    "[相关课件](https://docs.google.com/presentation/d/1cUIt8b2ySz-85_ykfeuuWsurccwTAuFPn782pZBzFsU/edit#slide=id.g7000294063_0_71)  \n",
    "\n",
    "Data Analys Workflow重点看下"
   ]
  }
 ],
 "metadata": {
  "kernelspec": {
   "display_name": "Python 3 (ipykernel)",
   "language": "python",
   "name": "python3"
  },
  "language_info": {
   "codemirror_mode": {
    "name": "ipython",
    "version": 3
   },
   "file_extension": ".py",
   "mimetype": "text/x-python",
   "name": "python",
   "nbconvert_exporter": "python",
   "pygments_lexer": "ipython3",
   "version": "3.9.9"
  }
 },
 "nbformat": 4,
 "nbformat_minor": 5
}
